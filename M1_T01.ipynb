{
 "cells": [
  {
   "cell_type": "code",
   "execution_count": 3,
   "metadata": {},
   "outputs": [
    {
     "name": "stdout",
     "output_type": "stream",
     "text": [
      "Collecting mysql-connector-python\n",
      "  Downloading mysql_connector_python-8.0.29-cp37-cp37m-win_amd64.whl (7.7 MB)\n",
      "Collecting protobuf>=3.0.0\n",
      "  Downloading protobuf-4.21.2-cp37-cp37m-win_amd64.whl (524 kB)\n",
      "Installing collected packages: protobuf, mysql-connector-python\n",
      "Successfully installed mysql-connector-python-8.0.29 protobuf-4.21.2\n",
      "Note: you may need to restart the kernel to use updated packages.\n"
     ]
    }
   ],
   "source": [
    "pip install mysql-connector-python"
   ]
  },
  {
   "cell_type": "markdown",
   "metadata": {},
   "source": [
    "# - Exercici 1:\n",
    "\n",
    "A partir dels documents adjunts (estructura i dades), crea una base de dades amb MySQL. Mostra les característiques principals de l'esquema creat i explica les diferents taules i variables que hi ha."
   ]
  },
  {
   "cell_type": "code",
   "execution_count": null,
   "metadata": {},
   "outputs": [],
   "source": [
    "import mysql.connector\n",
    "\n",
    "mydb = mysql.connector.connect(\n",
    "  host=\"localhost\",\n",
    "  user=\"root\",\n",
    "  password=\"123456\"\n",
    ")"
   ]
  },
  {
   "cell_type": "code",
   "execution_count": 34,
   "metadata": {},
   "outputs": [
    {
     "name": "stdout",
     "output_type": "stream",
     "text": [
      "('basedades1',)\n",
      "('information_schema',)\n",
      "('movies',)\n",
      "('mysql',)\n",
      "('performance_schema',)\n",
      "('sakila',)\n",
      "('sgae_practica',)\n",
      "('sys',)\n",
      "('world',)\n"
     ]
    }
   ],
   "source": [
    "mycursor.execute(\"SHOW DATABASES\")\n",
    "for x in mycursor:\n",
    "    print(x)"
   ]
  },
  {
   "cell_type": "code",
   "execution_count": 35,
   "metadata": {},
   "outputs": [],
   "source": [
    "mycursor = mydb.cursor()"
   ]
  },
  {
   "cell_type": "code",
   "execution_count": null,
   "metadata": {},
   "outputs": [],
   "source": [
    "mycursor.execute(\"CREATE DATABASE SGAE_Practica\")"
   ]
  },
  {
   "cell_type": "code",
   "execution_count": 11,
   "metadata": {},
   "outputs": [],
   "source": [
    "mycursor.execute(\"CREATE SCHEMA movies\")"
   ]
  },
  {
   "cell_type": "code",
   "execution_count": 13,
   "metadata": {},
   "outputs": [],
   "source": [
    "mycursor.execute(\"CREATE TABLE movies.tb_genre (  genre_id  INTEGER NOT NULL ,  genre_name   CHARACTER VARYING(40) NOT NULL ,  created_by_user  CHARACTER VARYING(10) NOT NULL DEFAULT 'OS_SGAD' ,  created_date     DATE ,  updated_date     DATE ,  CONSTRAINT pk_genre PRIMARY KEY (genre_id))\")"
   ]
  },
  {
   "cell_type": "code",
   "execution_count": 14,
   "metadata": {},
   "outputs": [],
   "source": [
    "mycursor.execute(\"CREATE TABLE movies.tb_movie (  movie_id         INTEGER NOT NULL ,  movie_title      CHARACTER VARYING(100) NOT NULL ,  movie_date       DATE ,  movie_format     CHARACTER VARYING(50) ,  movie_genre_id   INTEGER ,  created_by_user  CHARACTER VARYING(10) NOT NULL DEFAULT 'OS_SGAD' ,  created_date     DATE ,  updated_date     DATE ,  CONSTRAINT pk_movie PRIMARY KEY (movie_id) ,  CONSTRAINT fk_movie_genre FOREIGN KEY (movie_genre_id) REFERENCES movies.tb_genre (genre_id))\")"
   ]
  },
  {
   "cell_type": "code",
   "execution_count": 15,
   "metadata": {},
   "outputs": [],
   "source": [
    "mycursor.execute(\"CREATE TABLE movies.tb_role (  role_id          INTEGER NOT NULL ,  role_name        CHARACTER VARYING(60) NOT NULL ,  created_by_user  CHARACTER VARYING(10) NOT NULL DEFAULT 'OS_SGAD' ,  created_date     DATE ,  updated_date     DATE ,  CONSTRAINT pk_role PRIMARY KEY (role_id))\")"
   ]
  },
  {
   "cell_type": "code",
   "execution_count": 16,
   "metadata": {},
   "outputs": [],
   "source": [
    "mycursor.execute(\"CREATE TABLE movies.tb_person (  person_id        INTEGER NOT NULL ,  person_name      CHARACTER VARYING(100) NOT NULL ,  person_country   CHARACTER VARYING(40) ,  person_dob       DATE NOT NULL ,  person_dod       DATE ,  person_parent_id INTEGER ,  created_by_user  CHARACTER VARYING(10) NOT NULL DEFAULT 'OS_SGAD' ,  created_date     DATE ,  updated_date     DATE ,  CONSTRAINT pk_person PRIMARY KEY (person_id) ,  CONSTRAINT fk_person_parent FOREIGN KEY (person_parent_id) REFERENCES movies.tb_person (person_id))\")"
   ]
  },
  {
   "cell_type": "code",
   "execution_count": 17,
   "metadata": {},
   "outputs": [],
   "source": [
    "mycursor.execute(\"CREATE TABLE movies.tb_movie_person (  movie_id         INTEGER NOT NULL ,  person_id        INTEGER NOT NULL ,  role_id         INTEGER NOT NULL ,  movie_award_ind  CHAR(1) NOT NULL ,  created_by_user  CHARACTER VARYING(10) NOT NULL DEFAULT 'OS_SGAD' ,  created_date     DATE ,  updated_date     DATE ,  CONSTRAINT pk_movper PRIMARY KEY (movie_id, person_id, role_id) ,  CONSTRAINT fk_movper_movie FOREIGN KEY (movie_id) REFERENCES movies.tb_movie (movie_id) ,  CONSTRAINT fk_movper_person FOREIGN KEY (person_id) REFERENCES movies.tb_person (person_id) ,  CONSTRAINT fk_movper_role FOREIGN KEY (role_id) REFERENCES movies.tb_role (role_id))\")"
   ]
  },
  {
   "cell_type": "code",
   "execution_count": 21,
   "metadata": {},
   "outputs": [],
   "source": [
    "mycursor.execute(\"COMMIT\")"
   ]
  },
  {
   "cell_type": "code",
   "execution_count": 54,
   "metadata": {},
   "outputs": [],
   "source": [
    "mydb = mysql.connector.connect(\n",
    "  host=\"localhost\",\n",
    "  user=\"root\",\n",
    "  password=\"123456\",\n",
    "  database=\"SGAE_Practica\"\n",
    ")\n",
    "mycursor = mydb.cursor()"
   ]
  },
  {
   "cell_type": "code",
   "execution_count": 55,
   "metadata": {},
   "outputs": [
    {
     "ename": "InterfaceError",
     "evalue": "Failed executing the operation; Not enough parameters for the SQL statement",
     "output_type": "error",
     "traceback": [
      "\u001b[1;31m---------------------------------------------------------------------------\u001b[0m",
      "\u001b[1;31mIndexError\u001b[0m                                Traceback (most recent call last)",
      "\u001b[1;32mC:\\ProgramData\\Anaconda3\\lib\\site-packages\\mysql\\connector\\cursor_cext.py\u001b[0m in \u001b[0;36m__call__\u001b[1;34m(self, matchobj)\u001b[0m\n\u001b[0;32m     65\u001b[0m         \u001b[1;32mtry\u001b[0m\u001b[1;33m:\u001b[0m\u001b[1;33m\u001b[0m\u001b[1;33m\u001b[0m\u001b[0m\n\u001b[1;32m---> 66\u001b[1;33m             \u001b[1;32mreturn\u001b[0m \u001b[0mself\u001b[0m\u001b[1;33m.\u001b[0m\u001b[0mparams\u001b[0m\u001b[1;33m[\u001b[0m\u001b[0mindex\u001b[0m\u001b[1;33m]\u001b[0m\u001b[1;33m\u001b[0m\u001b[1;33m\u001b[0m\u001b[0m\n\u001b[0m\u001b[0;32m     67\u001b[0m         \u001b[1;32mexcept\u001b[0m \u001b[0mIndexError\u001b[0m\u001b[1;33m:\u001b[0m\u001b[1;33m\u001b[0m\u001b[1;33m\u001b[0m\u001b[0m\n",
      "\u001b[1;31mIndexError\u001b[0m: tuple index out of range",
      "\nDuring handling of the above exception, another exception occurred:\n",
      "\u001b[1;31mProgrammingError\u001b[0m                          Traceback (most recent call last)",
      "\u001b[1;32mC:\\ProgramData\\Anaconda3\\lib\\site-packages\\mysql\\connector\\cursor_cext.py\u001b[0m in \u001b[0;36m_batch_insert\u001b[1;34m(self, operation, seq_params)\u001b[0m\n\u001b[0;32m    318\u001b[0m                     \u001b[0mpsub\u001b[0m \u001b[1;33m=\u001b[0m \u001b[0m_ParamSubstitutor\u001b[0m\u001b[1;33m(\u001b[0m\u001b[0mprepared\u001b[0m\u001b[1;33m)\u001b[0m\u001b[1;33m\u001b[0m\u001b[1;33m\u001b[0m\u001b[0m\n\u001b[1;32m--> 319\u001b[1;33m                     \u001b[0mtmp\u001b[0m \u001b[1;33m=\u001b[0m \u001b[0mRE_PY_PARAM\u001b[0m\u001b[1;33m.\u001b[0m\u001b[0msub\u001b[0m\u001b[1;33m(\u001b[0m\u001b[0mpsub\u001b[0m\u001b[1;33m,\u001b[0m \u001b[0mtmp\u001b[0m\u001b[1;33m)\u001b[0m\u001b[1;33m\u001b[0m\u001b[1;33m\u001b[0m\u001b[0m\n\u001b[0m\u001b[0;32m    320\u001b[0m                     \u001b[1;32mif\u001b[0m \u001b[0mpsub\u001b[0m\u001b[1;33m.\u001b[0m\u001b[0mremaining\u001b[0m \u001b[1;33m!=\u001b[0m \u001b[1;36m0\u001b[0m\u001b[1;33m:\u001b[0m\u001b[1;33m\u001b[0m\u001b[1;33m\u001b[0m\u001b[0m\n",
      "\u001b[1;32mC:\\ProgramData\\Anaconda3\\lib\\site-packages\\mysql\\connector\\cursor_cext.py\u001b[0m in \u001b[0;36m__call__\u001b[1;34m(self, matchobj)\u001b[0m\n\u001b[0;32m     68\u001b[0m             raise errors.ProgrammingError(\n\u001b[1;32m---> 69\u001b[1;33m                 \"Not enough parameters for the SQL statement\")\n\u001b[0m\u001b[0;32m     70\u001b[0m \u001b[1;33m\u001b[0m\u001b[0m\n",
      "\u001b[1;31mProgrammingError\u001b[0m: Not enough parameters for the SQL statement",
      "\nDuring handling of the above exception, another exception occurred:\n",
      "\u001b[1;31mInterfaceError\u001b[0m                            Traceback (most recent call last)",
      "\u001b[1;32m<ipython-input-55-8c9938a4a903>\u001b[0m in \u001b[0;36m<module>\u001b[1;34m\u001b[0m\n\u001b[0;32m     14\u001b[0m ]\n\u001b[0;32m     15\u001b[0m \u001b[1;33m\u001b[0m\u001b[0m\n\u001b[1;32m---> 16\u001b[1;33m \u001b[0mmycursor\u001b[0m\u001b[1;33m.\u001b[0m\u001b[0mexecutemany\u001b[0m\u001b[1;33m(\u001b[0m\u001b[0msql\u001b[0m\u001b[1;33m,\u001b[0m \u001b[0mval\u001b[0m\u001b[1;33m)\u001b[0m\u001b[1;33m\u001b[0m\u001b[1;33m\u001b[0m\u001b[0m\n\u001b[0m\u001b[0;32m     17\u001b[0m \u001b[0mmycursor\u001b[0m\u001b[1;33m.\u001b[0m\u001b[0mcommit\u001b[0m\u001b[1;33m(\u001b[0m\u001b[1;33m)\u001b[0m\u001b[1;33m\u001b[0m\u001b[1;33m\u001b[0m\u001b[0m\n",
      "\u001b[1;32mC:\\ProgramData\\Anaconda3\\lib\\site-packages\\mysql\\connector\\cursor_cext.py\u001b[0m in \u001b[0;36mexecutemany\u001b[1;34m(self, operation, seq_params)\u001b[0m\n\u001b[0;32m    353\u001b[0m                 \u001b[0mself\u001b[0m\u001b[1;33m.\u001b[0m\u001b[0m_rowcount\u001b[0m \u001b[1;33m=\u001b[0m \u001b[1;36m0\u001b[0m\u001b[1;33m\u001b[0m\u001b[1;33m\u001b[0m\u001b[0m\n\u001b[0;32m    354\u001b[0m                 \u001b[1;32mreturn\u001b[0m \u001b[1;32mNone\u001b[0m\u001b[1;33m\u001b[0m\u001b[1;33m\u001b[0m\u001b[0m\n\u001b[1;32m--> 355\u001b[1;33m             \u001b[0mstmt\u001b[0m \u001b[1;33m=\u001b[0m \u001b[0mself\u001b[0m\u001b[1;33m.\u001b[0m\u001b[0m_batch_insert\u001b[0m\u001b[1;33m(\u001b[0m\u001b[0moperation\u001b[0m\u001b[1;33m,\u001b[0m \u001b[0mseq_params\u001b[0m\u001b[1;33m)\u001b[0m\u001b[1;33m\u001b[0m\u001b[1;33m\u001b[0m\u001b[0m\n\u001b[0m\u001b[0;32m    356\u001b[0m             \u001b[1;32mif\u001b[0m \u001b[0mstmt\u001b[0m \u001b[1;32mis\u001b[0m \u001b[1;32mnot\u001b[0m \u001b[1;32mNone\u001b[0m\u001b[1;33m:\u001b[0m\u001b[1;33m\u001b[0m\u001b[1;33m\u001b[0m\u001b[0m\n\u001b[0;32m    357\u001b[0m                 \u001b[0mself\u001b[0m\u001b[1;33m.\u001b[0m\u001b[0m_executed\u001b[0m \u001b[1;33m=\u001b[0m \u001b[0mstmt\u001b[0m\u001b[1;33m\u001b[0m\u001b[1;33m\u001b[0m\u001b[0m\n",
      "\u001b[1;32mC:\\ProgramData\\Anaconda3\\lib\\site-packages\\mysql\\connector\\cursor_cext.py\u001b[0m in \u001b[0;36m_batch_insert\u001b[1;34m(self, operation, seq_params)\u001b[0m\n\u001b[0;32m    332\u001b[0m         \u001b[1;32mexcept\u001b[0m \u001b[0mException\u001b[0m \u001b[1;32mas\u001b[0m \u001b[0merr\u001b[0m\u001b[1;33m:\u001b[0m\u001b[1;33m\u001b[0m\u001b[1;33m\u001b[0m\u001b[0m\n\u001b[0;32m    333\u001b[0m             raise errors.InterfaceError(\n\u001b[1;32m--> 334\u001b[1;33m                 \"Failed executing the operation; %s\" % err)\n\u001b[0m\u001b[0;32m    335\u001b[0m \u001b[1;33m\u001b[0m\u001b[0m\n\u001b[0;32m    336\u001b[0m \u001b[1;33m\u001b[0m\u001b[0m\n",
      "\u001b[1;31mInterfaceError\u001b[0m: Failed executing the operation; Not enough parameters for the SQL statement"
     ]
    }
   ],
   "source": [
    "sql = \"INSERT INTO movies.tb_genre (genre_id, genre_name, created_by_user, created_date, updated_date) VALUES ( %s, %s, %s, %s, %s)\"\n",
    "val = [\n",
    "  (1, 'Acción'),\n",
    "  (2, 'Ciencia Ficción'),\n",
    "  (3, 'Comedia'),\n",
    "  (4, 'Drama'),\n",
    "  (5, 'Fantasía', 'apermag'),\n",
    "  (6, 'Melodrama', 'apermag','2018-09-01', '2018-09-27'),\n",
    "  (7, 'Musical'),\n",
    "  (8, 'Romance'),\n",
    "  (9, 'Suspense'),\n",
    "  (10, 'Terror'),\n",
    "  (11, 'Bélico')\n",
    "]\n",
    "\n",
    "mycursor.executemany(sql, val)\n",
    "mycursor.commit()"
   ]
  },
  {
   "cell_type": "code",
   "execution_count": 68,
   "metadata": {},
   "outputs": [],
   "source": [
    "mycursor.execute(\"INSERT INTO movies.tb_genre (genre_id, genre_name) VALUES ( 1, 'Acción')\")\n",
    "mycursor.execute(\"INSERT INTO movies.tb_genre (genre_id, genre_name) VALUES ( 2, 'Ciencia Ficción')\")\n",
    "mycursor.execute(\"INSERT INTO movies.tb_genre (genre_id, genre_name) VALUES ( 3, 'Comedia')\")\n",
    "mycursor.execute(\"INSERT INTO movies.tb_genre (genre_id, genre_name) VALUES ( 4, 'Drama')\")\n",
    "mycursor.execute(\"INSERT INTO movies.tb_genre (genre_id, genre_name, created_by_user) VALUES ( 5, 'Fantasía', 'apermag')\")\n",
    "mycursor.execute(\"INSERT INTO movies.tb_genre (genre_id, genre_name, created_by_user, created_date, updated_date) VALUES ( 6, 'Melodrama', 'apermag', '2018-09-01', '2018-09-27')\")\n",
    "mycursor.execute(\"INSERT INTO movies.tb_genre (genre_id, genre_name) VALUES ( 7, 'Musical')\")\n",
    "mycursor.execute(\"INSERT INTO movies.tb_genre (genre_id, genre_name) VALUES ( 8, 'Romance')\")\n",
    "mycursor.execute(\"INSERT INTO movies.tb_genre (genre_id, genre_name) VALUES ( 9, 'Suspense')\")\n",
    "mycursor.execute(\"INSERT INTO movies.tb_genre (genre_id, genre_name) VALUES ( 10, 'Terror')\")\n",
    "mycursor.execute(\"INSERT INTO movies.tb_genre (genre_id, genre_name) VALUES ( 11, 'Bélico')\")"
   ]
  },
  {
   "cell_type": "code",
   "execution_count": null,
   "metadata": {},
   "outputs": [],
   "source": [
    "print(mycursor.rowcount, \"was inserted.\")"
   ]
  },
  {
   "cell_type": "code",
   "execution_count": 71,
   "metadata": {},
   "outputs": [],
   "source": [
    "mycursor.execute(\"SELECT * FROM movies.tb_genre\")"
   ]
  },
  {
   "cell_type": "code",
   "execution_count": 72,
   "metadata": {},
   "outputs": [
    {
     "name": "stdout",
     "output_type": "stream",
     "text": [
      "(1, 'Acción', 'OS_SGAD', None, None)\n",
      "(2, 'Ciencia Ficción', 'OS_SGAD', None, None)\n",
      "(3, 'Comedia', 'OS_SGAD', None, None)\n",
      "(4, 'Drama', 'OS_SGAD', None, None)\n",
      "(5, 'Fantasía', 'apermag', None, None)\n",
      "(6, 'Melodrama', 'apermag', datetime.date(2018, 9, 1), datetime.date(2018, 9, 27))\n",
      "(7, 'Musical', 'OS_SGAD', None, None)\n",
      "(8, 'Romance', 'OS_SGAD', None, None)\n",
      "(9, 'Suspense', 'OS_SGAD', None, None)\n",
      "(10, 'Terror', 'OS_SGAD', None, None)\n",
      "(11, 'Bélico', 'OS_SGAD', None, None)\n"
     ]
    }
   ],
   "source": [
    "myresult = mycursor.fetchall()\n",
    "\n",
    "for x in myresult:\n",
    "    print(x)"
   ]
  },
  {
   "cell_type": "code",
   "execution_count": 74,
   "metadata": {},
   "outputs": [],
   "source": [
    "mycursor.execute(\"INSERT INTO movies.tb_movie (movie_id, movie_title, movie_date, movie_format, movie_genre_id) VALUES ( 1, 'Apocalypse Now', '1979-05-10', 'Film', 11)\")\n",
    "mycursor.execute(\"INSERT INTO movies.tb_movie (movie_id, movie_title, movie_date, movie_format, movie_genre_id) VALUES ( 2, 'Star Wars:Episode IV - A New Hope', '1977-05-25', 'Film', 2)\")\n",
    "mycursor.execute(\"INSERT INTO movies.tb_movie (movie_id, movie_title, movie_date, movie_format, movie_genre_id) VALUES ( 3, 'Indiana Jones and the Temple of Doom', '1984-05-08', 'Film', 1)\")\n",
    "mycursor.execute(\"INSERT INTO movies.tb_movie (movie_id, movie_title, movie_date, movie_format, movie_genre_id) VALUES ( 4, 'The Terminal', '2004-06-18', 'Digital', 3)\")\n",
    "mycursor.execute(\"INSERT INTO movies.tb_movie (movie_id, movie_title, movie_date, movie_format, movie_genre_id) VALUES ( 5, 'Jaws', '1975-01-01', 'Film', 10)\")\n",
    "mycursor.execute(\"INSERT INTO movies.tb_movie (movie_id, movie_title, movie_date, movie_format, movie_genre_id) VALUES ( 6, 'ET The Extraterrestrial', '1982-07-25', 'Film', 5)\")\n",
    "mycursor.execute(\"INSERT INTO movies.tb_movie (movie_id, movie_title, movie_date, movie_format, movie_genre_id) VALUES ( 7, 'Psycho', '1960-05-06', 'Film', 9)\")\n",
    "mycursor.execute(\"INSERT INTO movies.tb_movie (movie_id, movie_title, movie_date, movie_format, movie_genre_id) VALUES ( 8, 'Ocho Apellidos Vascos', '2014-03-14', 'Digital', 3)\")\n",
    "mycursor.execute(\"INSERT INTO movies.tb_movie (movie_id, movie_title, movie_date, movie_format, movie_genre_id) VALUES ( 9, 'Ocho Apellidos Catalanes', '2016-06-09', 'Digital', 8)\")\n",
    "mycursor.execute(\"INSERT INTO movies.tb_movie (movie_id, movie_title, movie_date, movie_format, movie_genre_id) VALUES (10, 'El otro lado de la cama', '2002-09-04', 'Digital', 8)\")\n",
    "mycursor.execute(\"INSERT INTO movies.tb_movie (movie_id, movie_title, movie_date, movie_format, movie_genre_id) VALUES (11, 'La Gran Familia Española', '2012-10-15', 'Digital', 3)\")\n",
    "mycursor.execute(\"INSERT INTO movies.tb_movie (movie_id, movie_title, movie_date, movie_format, movie_genre_id) VALUES (12, 'El dia de la bestia', '1994-12-25', 'Film', 1)\")\n",
    "mycursor.execute(\"INSERT INTO movies.tb_movie (movie_id, movie_title, movie_date, movie_format, movie_genre_id) VALUES (13, 'Braveheart', '1995-08-08', 'Film', 4)\")\n",
    "mycursor.execute(\"INSERT INTO movies.tb_movie (movie_id, movie_title, movie_date, movie_format, movie_genre_id) VALUES (14, 'The Shawshank Redemption', '1992-01-07', 'Film', 4)\")\n",
    "mycursor.execute(\"INSERT INTO movies.tb_movie (movie_id, movie_title, movie_date, movie_format, movie_genre_id) VALUES (15, 'Las brujas de Zugarramurdi', '2009-10-07', 'Digital', 9)\")\n",
    "mycursor.execute(\"INSERT INTO movies.tb_movie (movie_id, movie_title, movie_date, movie_format, movie_genre_id) VALUES (16, 'Blade Runner', '1982-12-25', 'Digital', 2)\")"
   ]
  },
  {
   "cell_type": "code",
   "execution_count": 75,
   "metadata": {},
   "outputs": [
    {
     "name": "stdout",
     "output_type": "stream",
     "text": [
      "(1, 'Apocalypse Now', datetime.date(1979, 5, 10), 'Film', 11, 'OS_SGAD', None, None)\n",
      "(2, 'Star Wars:Episode IV - A New Hope', datetime.date(1977, 5, 25), 'Film', 2, 'OS_SGAD', None, None)\n",
      "(3, 'Indiana Jones and the Temple of Doom', datetime.date(1984, 5, 8), 'Film', 1, 'OS_SGAD', None, None)\n",
      "(4, 'The Terminal', datetime.date(2004, 6, 18), 'Digital', 3, 'OS_SGAD', None, None)\n",
      "(5, 'Jaws', datetime.date(1975, 1, 1), 'Film', 10, 'OS_SGAD', None, None)\n",
      "(6, 'ET The Extraterrestrial', datetime.date(1982, 7, 25), 'Film', 5, 'OS_SGAD', None, None)\n",
      "(7, 'Psycho', datetime.date(1960, 5, 6), 'Film', 9, 'OS_SGAD', None, None)\n",
      "(8, 'Ocho Apellidos Vascos', datetime.date(2014, 3, 14), 'Digital', 3, 'OS_SGAD', None, None)\n",
      "(9, 'Ocho Apellidos Catalanes', datetime.date(2016, 6, 9), 'Digital', 8, 'OS_SGAD', None, None)\n",
      "(10, 'El otro lado de la cama', datetime.date(2002, 9, 4), 'Digital', 8, 'OS_SGAD', None, None)\n",
      "(11, 'La Gran Familia Española', datetime.date(2012, 10, 15), 'Digital', 3, 'OS_SGAD', None, None)\n",
      "(12, 'El dia de la bestia', datetime.date(1994, 12, 25), 'Film', 1, 'OS_SGAD', None, None)\n",
      "(13, 'Braveheart', datetime.date(1995, 8, 8), 'Film', 4, 'OS_SGAD', None, None)\n",
      "(14, 'The Shawshank Redemption', datetime.date(1992, 1, 7), 'Film', 4, 'OS_SGAD', None, None)\n",
      "(15, 'Las brujas de Zugarramurdi', datetime.date(2009, 10, 7), 'Digital', 9, 'OS_SGAD', None, None)\n",
      "(16, 'Blade Runner', datetime.date(1982, 12, 25), 'Digital', 2, 'OS_SGAD', None, None)\n"
     ]
    }
   ],
   "source": [
    "mycursor.execute(\"SELECT * FROM movies.tb_movie\")\n",
    "myresult = mycursor.fetchall()\n",
    "\n",
    "for x in myresult:\n",
    "    print(x)"
   ]
  },
  {
   "cell_type": "code",
   "execution_count": 76,
   "metadata": {},
   "outputs": [],
   "source": [
    "mycursor.execute(\"INSERT INTO movies.tb_role (role_id, role_name) VALUES ( 1, 'Actor')\")\n",
    "mycursor.execute(\"INSERT INTO movies.tb_role (role_id, role_name) VALUES ( 2, 'Director')\")\n",
    "mycursor.execute(\"INSERT INTO movies.tb_role (role_id, role_name) VALUES ( 3, 'Productor')\")\n",
    "mycursor.execute(\"INSERT INTO movies.tb_role (role_id, role_name) VALUES ( 4, 'Guionista')\")\n",
    "mycursor.execute(\"INSERT INTO movies.tb_role (role_id, role_name) VALUES ( 5, 'Música')\")"
   ]
  },
  {
   "cell_type": "code",
   "execution_count": 77,
   "metadata": {},
   "outputs": [
    {
     "name": "stdout",
     "output_type": "stream",
     "text": [
      "(1, 'Actor', 'OS_SGAD', None, None)\n",
      "(2, 'Director', 'OS_SGAD', None, None)\n",
      "(3, 'Productor', 'OS_SGAD', None, None)\n",
      "(4, 'Guionista', 'OS_SGAD', None, None)\n",
      "(5, 'Música', 'OS_SGAD', None, None)\n"
     ]
    }
   ],
   "source": [
    "mycursor.execute(\"SELECT * FROM movies.tb_role\")\n",
    "myresult = mycursor.fetchall()\n",
    "\n",
    "for x in myresult:\n",
    "    print(x)"
   ]
  },
  {
   "cell_type": "code",
   "execution_count": 78,
   "metadata": {},
   "outputs": [],
   "source": [
    "mycursor.execute(\"INSERT INTO movies.tb_person (person_id, person_name, person_country, person_dob, person_dod, person_parent_id) VALUES ( 1, 'Francis Ford Coppola', 'United States', '1939-04-07', NULL, NULL)\")\n",
    "mycursor.execute(\"INSERT INTO movies.tb_person (person_id, person_name, person_country, person_dob, person_dod, person_parent_id) VALUES ( 2, 'Carmine Coppola', 'United States', '1945-07-08', NULL, NULL)\")\n",
    "mycursor.execute(\"INSERT INTO movies.tb_person (person_id, person_name, person_country, person_dob, person_dod, person_parent_id) VALUES ( 3, 'Marlon Brando', 'United States', '1924-04-03', '2004-07-01', NULL)\")\n",
    "mycursor.execute(\"INSERT INTO movies.tb_person (person_id, person_name, person_country, person_dob, person_dod, person_parent_id) VALUES ( 4, 'Robert Duvall', 'United States', '1931-01-05', NULL, NULL)\")\n",
    "mycursor.execute(\"INSERT INTO movies.tb_person (person_id, person_name, person_country, person_dob, person_dod, person_parent_id) VALUES ( 5, 'Martin Sheen', 'United States', '1940-08-03', NULL, NULL)\")\n",
    "mycursor.execute(\"INSERT INTO movies.tb_person (person_id, person_name, person_country, person_dob, person_dod, person_parent_id) VALUES ( 6, 'Harrison Ford', 'United States', '1942-07-13', NULL, NULL)\")\n",
    "mycursor.execute(\"INSERT INTO movies.tb_person (person_id, person_name, person_country, person_dob, person_dod, person_parent_id) VALUES ( 7, 'George Lucas', 'United States', '1944-05-14', NULL, NULL)\")\n",
    "mycursor.execute(\"INSERT INTO movies.tb_person (person_id, person_name, person_country, person_dob, person_dod, person_parent_id) VALUES ( 8, 'Gary Kurtz', 'United States', '1940-07-27', NULL, NULL)\")\n",
    "mycursor.execute(\"INSERT INTO movies.tb_person (person_id, person_name, person_country, person_dob, person_dod, person_parent_id) VALUES ( 9, 'Steven Spielberg', 'United States', '1946-12-18', NULL, NULL)\")\n",
    "mycursor.execute(\"INSERT INTO movies.tb_person (person_id, person_name, person_country, person_dob, person_dod, person_parent_id) VALUES (10, 'John Williams', 'United States', '1928-08-08', NULL, NULL)\")\n",
    "mycursor.execute(\"INSERT INTO movies.tb_person (person_id, person_name, person_country, person_dob, person_dod, person_parent_id) VALUES (11, 'Tom Hanks', 'United States', '1956-07-09', NULL, NULL)\")\n",
    "mycursor.execute(\"INSERT INTO movies.tb_person (person_id, person_name, person_country, person_dob, person_dod, person_parent_id) VALUES (12, 'Catherine Zeta-Jones', 'Wales', '1969-09-25', NULL, NULL)\")\n",
    "mycursor.execute(\"INSERT INTO movies.tb_person (person_id, person_name, person_country, person_dob, person_dod, person_parent_id) VALUES (13, 'Alfred Joseph Hitchcock', 'United Kingdom', '1899-08-13', '1980-04-29', NULL)\")\n",
    "mycursor.execute(\"INSERT INTO movies.tb_person (person_id, person_name, person_country, person_dob, person_dod, person_parent_id) VALUES (14, 'Anthony Perkins', 'United States', '1934-04-04', '1992-09-08', NULL)\")\n",
    "mycursor.execute(\"INSERT INTO movies.tb_person (person_id, person_name, person_country, person_dob, person_dod, person_parent_id) VALUES (15, 'Vera Miles', 'United States', '1929-08-23', NULL, NULL)\")\n",
    "mycursor.execute(\"INSERT INTO movies.tb_person (person_id, person_name, person_country, person_dob, person_dod, person_parent_id) VALUES (16, 'Emilio Martinez Lazaro', 'Spain', '1956-09-09', NULL, NULL)\")\n",
    "mycursor.execute(\"INSERT INTO movies.tb_person (person_id, person_name, person_country, person_dob, person_dod, person_parent_id) VALUES (17, 'Dani Rovira', 'Spain', '1984-07-01', NULL, NULL)\")\n",
    "mycursor.execute(\"INSERT INTO movies.tb_person (person_id, person_name, person_country, person_dob, person_dod, person_parent_id) VALUES (18, 'Clara Lago', 'Spain', '1986-04-17', NULL, NULL)\")\n",
    "mycursor.execute(\"INSERT INTO movies.tb_person (person_id, person_name, person_country, person_dob, person_dod, person_parent_id) VALUES (19, 'Carmen Machi', 'Spain', '1964-08-09', NULL, NULL)\")\n",
    "mycursor.execute(\"INSERT INTO movies.tb_person (person_id, person_name, person_country, person_dob, person_dod, person_parent_id) VALUES (20, 'Karra Elejalde', 'Spain', '1960-03-06', NULL, NULL)\")\n",
    "mycursor.execute(\"INSERT INTO movies.tb_person (person_id, person_name, person_country, person_dob, person_dod, person_parent_id) VALUES (21, 'Daniel Sanchez Arevalo', 'Spain', '1970-06-08', NULL, NULL)\")\n",
    "mycursor.execute(\"INSERT INTO movies.tb_person (person_id, person_name, person_country, person_dob, person_dod, person_parent_id) VALUES (22, 'Quim Gutierrez', 'Spain', '1981-03-27', NULL, NULL)\")\n",
    "mycursor.execute(\"INSERT INTO movies.tb_person (person_id, person_name, person_country, person_dob, person_dod, person_parent_id) VALUES (23, 'Robert Alamo', 'Spain', '1970-05-06', NULL, NULL)\")\n",
    "mycursor.execute(\"INSERT INTO movies.tb_person (person_id, person_name, person_country, person_dob, person_dod, person_parent_id) VALUES (24, 'Hector Colome', 'Spain', '1944-10-25', '2015-02-28', NULL)\")\n",
    "mycursor.execute(\"INSERT INTO movies.tb_person (person_id, person_name, person_country, person_dob, person_dod, person_parent_id) VALUES (25, 'Veronica Echegui', 'Spain', '1983-03-14', NULL, NULL)\")\n",
    "mycursor.execute(\"INSERT INTO movies.tb_person (person_id, person_name, person_country, person_dob, person_dod, person_parent_id) VALUES (26, 'Patrick Criado', 'Spain', '1995-09-23', NULL, NULL)\")\n",
    "mycursor.execute(\"INSERT INTO movies.tb_person (person_id, person_name, person_country, person_dob, person_dod, person_parent_id) VALUES (27, 'Sean Connery', 'Scotland', '1930-07-08', NULL, NULL)\")\n",
    "mycursor.execute(\"INSERT INTO movies.tb_person (person_id, person_name, person_country, person_dob, person_dod, person_parent_id) VALUES (28, 'Mel Gibson', 'Australia', '1950-08-09', NULL, NULL)\")\n",
    "mycursor.execute(\"INSERT INTO movies.tb_person (person_id, person_name, person_country, person_dob, person_dod, person_parent_id) VALUES (29, 'Morgan Freeman', 'United States', '1935-10-01', NULL, NULL)\")\n",
    "mycursor.execute(\"INSERT INTO movies.tb_person (person_id, person_name, person_country, person_dob, person_dod, person_parent_id) VALUES (30, 'Tim Robbins', 'United States', '1949-06-07', NULL, NULL)\")\n",
    "mycursor.execute(\"INSERT INTO movies.tb_person (person_id, person_name, person_country, person_dob, person_dod, person_parent_id) VALUES (41, 'Charlie Sheen', 'United States', '1965-09-03', NULL, 5)\")\n",
    "mycursor.execute(\"INSERT INTO movies.tb_person (person_id, person_name, person_country, person_dob, person_dod, person_parent_id) VALUES (42, 'Emilio Estevez', 'United States', '1962-05-12', NULL, 5)\")\n",
    "mycursor.execute(\"INSERT INTO movies.tb_person (person_id, person_name, person_country, person_dob, person_dod, person_parent_id) VALUES (43, 'Ramón Estevez', 'United States', '1963-08-07', NULL, 5)\")\n",
    "mycursor.execute(\"INSERT INTO movies.tb_person (person_id, person_name, person_country, person_dob, person_dod, person_parent_id) VALUES (44, 'Reneé Estevez', 'United States', '1967-04-02', NULL, 5)\")\n",
    "mycursor.execute(\"INSERT INTO movies.tb_person (person_id, person_name, person_country, person_dob, person_dod, person_parent_id) VALUES (45, 'Paula Speert Sheen', 'United States', '1986-01-06', NULL,41)\")\n",
    "mycursor.execute(\"INSERT INTO movies.tb_person (person_id, person_name, person_country, person_dob, person_dod, person_parent_id) VALUES (46, 'Bob Sheen', 'United States', '2009-05-01', NULL,41)\")\n",
    "mycursor.execute(\"INSERT INTO movies.tb_person (person_id, person_name, person_country, person_dob, person_dod, person_parent_id) VALUES (47, 'Max Sheen', 'United States', '2009-05-01', NULL,41)\")\n",
    "mycursor.execute(\"INSERT INTO movies.tb_person (person_id, person_name, person_country, person_dob, person_dod, person_parent_id) VALUES (48, 'Sam Sheen', 'United States', '2004-03-09', NULL,41)\")\n",
    "mycursor.execute(\"INSERT INTO movies.tb_person (person_id, person_name, person_country, person_dob, person_dod, person_parent_id) VALUES (49, 'Lola Sheen', 'United States', '2005-06-01', NULL,41)\")\n",
    "mycursor.execute(\"INSERT INTO movies.tb_person (person_id, person_name, person_country, person_dob, person_dod, person_parent_id) VALUES (50, 'Paula Jones-Sheen', 'United States', '2003-07-06', NULL,45)\")\n",
    "mycursor.execute(\"INSERT INTO movies.tb_person (person_id, person_name, person_country, person_dob, person_dod, person_parent_id) VALUES (51, 'Paloma Rae Estevez', 'United States', '1986-02-15', NULL,42)\")\n",
    "mycursor.execute(\"INSERT INTO movies.tb_person (person_id, person_name, person_country, person_dob, person_dod, person_parent_id) VALUES (52, 'Taylor Levi Estevez', 'United States', '1984-06-22', NULL,42)\")"
   ]
  },
  {
   "cell_type": "code",
   "execution_count": 80,
   "metadata": {},
   "outputs": [
    {
     "name": "stdout",
     "output_type": "stream",
     "text": [
      "(1, 'Francis Ford Coppola', 'United States', datetime.date(1939, 4, 7), None, None, 'OS_SGAD', None, None)\n",
      "(2, 'Carmine Coppola', 'United States', datetime.date(1945, 7, 8), None, None, 'OS_SGAD', None, None)\n",
      "(3, 'Marlon Brando', 'United States', datetime.date(1924, 4, 3), datetime.date(2004, 7, 1), None, 'OS_SGAD', None, None)\n",
      "(4, 'Robert Duvall', 'United States', datetime.date(1931, 1, 5), None, None, 'OS_SGAD', None, None)\n",
      "(5, 'Martin Sheen', 'United States', datetime.date(1940, 8, 3), None, None, 'OS_SGAD', None, None)\n",
      "(6, 'Harrison Ford', 'United States', datetime.date(1942, 7, 13), None, None, 'OS_SGAD', None, None)\n",
      "(7, 'George Lucas', 'United States', datetime.date(1944, 5, 14), None, None, 'OS_SGAD', None, None)\n",
      "(8, 'Gary Kurtz', 'United States', datetime.date(1940, 7, 27), None, None, 'OS_SGAD', None, None)\n",
      "(9, 'Steven Spielberg', 'United States', datetime.date(1946, 12, 18), None, None, 'OS_SGAD', None, None)\n",
      "(10, 'John Williams', 'United States', datetime.date(1928, 8, 8), None, None, 'OS_SGAD', None, None)\n",
      "(11, 'Tom Hanks', 'United States', datetime.date(1956, 7, 9), None, None, 'OS_SGAD', None, None)\n",
      "(12, 'Catherine Zeta-Jones', 'Wales', datetime.date(1969, 9, 25), None, None, 'OS_SGAD', None, None)\n",
      "(13, 'Alfred Joseph Hitchcock', 'United Kingdom', datetime.date(1899, 8, 13), datetime.date(1980, 4, 29), None, 'OS_SGAD', None, None)\n",
      "(14, 'Anthony Perkins', 'United States', datetime.date(1934, 4, 4), datetime.date(1992, 9, 8), None, 'OS_SGAD', None, None)\n",
      "(15, 'Vera Miles', 'United States', datetime.date(1929, 8, 23), None, None, 'OS_SGAD', None, None)\n",
      "(16, 'Emilio Martinez Lazaro', 'Spain', datetime.date(1956, 9, 9), None, None, 'OS_SGAD', None, None)\n",
      "(17, 'Dani Rovira', 'Spain', datetime.date(1984, 7, 1), None, None, 'OS_SGAD', None, None)\n",
      "(18, 'Clara Lago', 'Spain', datetime.date(1986, 4, 17), None, None, 'OS_SGAD', None, None)\n",
      "(19, 'Carmen Machi', 'Spain', datetime.date(1964, 8, 9), None, None, 'OS_SGAD', None, None)\n",
      "(20, 'Karra Elejalde', 'Spain', datetime.date(1960, 3, 6), None, None, 'OS_SGAD', None, None)\n",
      "(21, 'Daniel Sanchez Arevalo', 'Spain', datetime.date(1970, 6, 8), None, None, 'OS_SGAD', None, None)\n",
      "(22, 'Quim Gutierrez', 'Spain', datetime.date(1981, 3, 27), None, None, 'OS_SGAD', None, None)\n",
      "(23, 'Robert Alamo', 'Spain', datetime.date(1970, 5, 6), None, None, 'OS_SGAD', None, None)\n",
      "(24, 'Hector Colome', 'Spain', datetime.date(1944, 10, 25), datetime.date(2015, 2, 28), None, 'OS_SGAD', None, None)\n",
      "(25, 'Veronica Echegui', 'Spain', datetime.date(1983, 3, 14), None, None, 'OS_SGAD', None, None)\n",
      "(26, 'Patrick Criado', 'Spain', datetime.date(1995, 9, 23), None, None, 'OS_SGAD', None, None)\n",
      "(27, 'Sean Connery', 'Scotland', datetime.date(1930, 7, 8), None, None, 'OS_SGAD', None, None)\n",
      "(28, 'Mel Gibson', 'Australia', datetime.date(1950, 8, 9), None, None, 'OS_SGAD', None, None)\n",
      "(29, 'Morgan Freeman', 'United States', datetime.date(1935, 10, 1), None, None, 'OS_SGAD', None, None)\n",
      "(30, 'Tim Robbins', 'United States', datetime.date(1949, 6, 7), None, None, 'OS_SGAD', None, None)\n",
      "(41, 'Charlie Sheen', 'United States', datetime.date(1965, 9, 3), None, 5, 'OS_SGAD', None, None)\n",
      "(42, 'Emilio Estevez', 'United States', datetime.date(1962, 5, 12), None, 5, 'OS_SGAD', None, None)\n",
      "(43, 'Ramón Estevez', 'United States', datetime.date(1963, 8, 7), None, 5, 'OS_SGAD', None, None)\n",
      "(44, 'Reneé Estevez', 'United States', datetime.date(1967, 4, 2), None, 5, 'OS_SGAD', None, None)\n",
      "(45, 'Paula Speert Sheen', 'United States', datetime.date(1986, 1, 6), None, 41, 'OS_SGAD', None, None)\n",
      "(46, 'Bob Sheen', 'United States', datetime.date(2009, 5, 1), None, 41, 'OS_SGAD', None, None)\n",
      "(47, 'Max Sheen', 'United States', datetime.date(2009, 5, 1), None, 41, 'OS_SGAD', None, None)\n",
      "(48, 'Sam Sheen', 'United States', datetime.date(2004, 3, 9), None, 41, 'OS_SGAD', None, None)\n",
      "(49, 'Lola Sheen', 'United States', datetime.date(2005, 6, 1), None, 41, 'OS_SGAD', None, None)\n",
      "(50, 'Paula Jones-Sheen', 'United States', datetime.date(2003, 7, 6), None, 45, 'OS_SGAD', None, None)\n",
      "(51, 'Paloma Rae Estevez', 'United States', datetime.date(1986, 2, 15), None, 42, 'OS_SGAD', None, None)\n",
      "(52, 'Taylor Levi Estevez', 'United States', datetime.date(1984, 6, 22), None, 42, 'OS_SGAD', None, None)\n"
     ]
    }
   ],
   "source": [
    "mycursor.execute(\"SELECT * FROM movies.tb_person\")\n",
    "myresult = mycursor.fetchall()\n",
    "\n",
    "for x in myresult:\n",
    "    print(x)"
   ]
  },
  {
   "cell_type": "code",
   "execution_count": 81,
   "metadata": {},
   "outputs": [],
   "source": [
    "mycursor.execute(\"INSERT INTO movies.tb_movie_person (movie_id, person_id, role_id, movie_award_ind) VALUES ( 1, 1, 2, 'Y')\")\n",
    "mycursor.execute(\"INSERT INTO movies.tb_movie_person (movie_id, person_id, role_id, movie_award_ind) VALUES ( 1, 1, 3, 'N')\")\n",
    "mycursor.execute(\"INSERT INTO movies.tb_movie_person (movie_id, person_id, role_id, movie_award_ind) VALUES ( 1, 1, 5, 'N')\")\n",
    "mycursor.execute(\"INSERT INTO movies.tb_movie_person (movie_id, person_id, role_id, movie_award_ind) VALUES ( 1, 2, 5, 'N')\")\n",
    "mycursor.execute(\"INSERT INTO movies.tb_movie_person (movie_id, person_id, role_id, movie_award_ind) VALUES ( 1, 3, 1, 'N')\")\n",
    "mycursor.execute(\"INSERT INTO movies.tb_movie_person (movie_id, person_id, role_id, movie_award_ind) VALUES ( 1, 4, 1, 'N')\")\n",
    "mycursor.execute(\"INSERT INTO movies.tb_movie_person (movie_id, person_id, role_id, movie_award_ind) VALUES ( 1, 5, 1, 'Y')\")\n",
    "mycursor.execute(\"INSERT INTO movies.tb_movie_person (movie_id, person_id, role_id, movie_award_ind) VALUES ( 1,41, 1, 'N')\")\n",
    "mycursor.execute(\"INSERT INTO movies.tb_movie_person (movie_id, person_id, role_id, movie_award_ind) VALUES ( 1, 6, 1, 'N')\")\n",
    "mycursor.execute(\"INSERT INTO movies.tb_movie_person (movie_id, person_id, role_id, movie_award_ind) VALUES ( 2, 6, 1, 'N')\")\n",
    "mycursor.execute(\"INSERT INTO movies.tb_movie_person (movie_id, person_id, role_id, movie_award_ind) VALUES ( 2, 7, 2, 'Y')\")\n",
    "mycursor.execute(\"INSERT INTO movies.tb_movie_person (movie_id, person_id, role_id, movie_award_ind) VALUES ( 2, 8, 3, 'N')\")\n",
    "mycursor.execute(\"INSERT INTO movies.tb_movie_person (movie_id, person_id, role_id, movie_award_ind) VALUES ( 3, 6, 1, 'N')\")\n",
    "mycursor.execute(\"INSERT INTO movies.tb_movie_person (movie_id, person_id, role_id, movie_award_ind) VALUES ( 3, 7, 4, 'N')\")\n",
    "mycursor.execute(\"INSERT INTO movies.tb_movie_person (movie_id, person_id, role_id, movie_award_ind) VALUES ( 3, 9, 2, 'N')\")\n",
    "mycursor.execute(\"INSERT INTO movies.tb_movie_person (movie_id, person_id, role_id, movie_award_ind) VALUES ( 3,10, 5, 'N')\")\n",
    "mycursor.execute(\"INSERT INTO movies.tb_movie_person (movie_id, person_id, role_id, movie_award_ind) VALUES ( 4, 9, 2, 'N')\")\n",
    "mycursor.execute(\"INSERT INTO movies.tb_movie_person (movie_id, person_id, role_id, movie_award_ind) VALUES ( 4, 9, 3, 'N')\")\n",
    "mycursor.execute(\"INSERT INTO movies.tb_movie_person (movie_id, person_id, role_id, movie_award_ind) VALUES ( 4,11, 1, 'N')\")\n",
    "mycursor.execute(\"INSERT INTO movies.tb_movie_person (movie_id, person_id, role_id, movie_award_ind) VALUES ( 4,12, 1, 'N')\")\n",
    "mycursor.execute(\"INSERT INTO movies.tb_movie_person (movie_id, person_id, role_id, movie_award_ind) VALUES ( 5, 9, 2, 'N')\")\n",
    "mycursor.execute(\"INSERT INTO movies.tb_movie_person (movie_id, person_id, role_id, movie_award_ind) VALUES ( 6, 9, 2, 'N')\")\n",
    "mycursor.execute(\"INSERT INTO movies.tb_movie_person (movie_id, person_id, role_id, movie_award_ind) VALUES ( 7,13, 1, 'N')\")\n",
    "mycursor.execute(\"INSERT INTO movies.tb_movie_person (movie_id, person_id, role_id, movie_award_ind) VALUES ( 7,13, 2, 'N')\")\n",
    "mycursor.execute(\"INSERT INTO movies.tb_movie_person (movie_id, person_id, role_id, movie_award_ind) VALUES ( 7,13, 3, 'N')\")\n",
    "mycursor.execute(\"INSERT INTO movies.tb_movie_person (movie_id, person_id, role_id, movie_award_ind) VALUES ( 7,14, 2, 'N')\")\n",
    "mycursor.execute(\"INSERT INTO movies.tb_movie_person (movie_id, person_id, role_id, movie_award_ind) VALUES ( 7,15, 2, 'N')\")\n",
    "mycursor.execute(\"INSERT INTO movies.tb_movie_person (movie_id, person_id, role_id, movie_award_ind) VALUES ( 3, 7, 1, 'N')\")\n",
    "mycursor.execute(\"INSERT INTO movies.tb_movie_person (movie_id, person_id, role_id, movie_award_ind) VALUES ( 8,16, 2, 'N')\")\n",
    "mycursor.execute(\"INSERT INTO movies.tb_movie_person (movie_id, person_id, role_id, movie_award_ind) VALUES ( 9,16, 2, 'N')\")\n",
    "mycursor.execute(\"INSERT INTO movies.tb_movie_person (movie_id, person_id, role_id, movie_award_ind) VALUES ( 8,17, 1, 'N')\")\n",
    "mycursor.execute(\"INSERT INTO movies.tb_movie_person (movie_id, person_id, role_id, movie_award_ind) VALUES ( 8,18, 1, 'N')\")\n",
    "mycursor.execute(\"INSERT INTO movies.tb_movie_person (movie_id, person_id, role_id, movie_award_ind) VALUES ( 8,19, 1, 'N')\")\n",
    "mycursor.execute(\"INSERT INTO movies.tb_movie_person (movie_id, person_id, role_id, movie_award_ind) VALUES ( 8,20, 1, 'N')\")\n",
    "mycursor.execute(\"INSERT INTO movies.tb_movie_person (movie_id, person_id, role_id, movie_award_ind) VALUES ( 9,17, 1, 'N')\")\n",
    "mycursor.execute(\"INSERT INTO movies.tb_movie_person (movie_id, person_id, role_id, movie_award_ind) VALUES ( 9,18, 1, 'N')\")\n",
    "mycursor.execute(\"INSERT INTO movies.tb_movie_person (movie_id, person_id, role_id, movie_award_ind) VALUES ( 9,19, 1, 'N')\")\n",
    "mycursor.execute(\"INSERT INTO movies.tb_movie_person (movie_id, person_id, role_id, movie_award_ind) VALUES ( 9,20, 1, 'N')\")\n",
    "mycursor.execute(\"INSERT INTO movies.tb_movie_person (movie_id, person_id, role_id, movie_award_ind) VALUES (10,16, 2, 'N')\")\n",
    "mycursor.execute(\"INSERT INTO movies.tb_movie_person (movie_id, person_id, role_id, movie_award_ind) VALUES (11,21, 2, 'N')\")\n",
    "mycursor.execute(\"INSERT INTO movies.tb_movie_person (movie_id, person_id, role_id, movie_award_ind) VALUES (11,21, 4, 'N')\")\n",
    "mycursor.execute(\"INSERT INTO movies.tb_movie_person (movie_id, person_id, role_id, movie_award_ind) VALUES (11,22, 1, 'N')\")\n",
    "mycursor.execute(\"INSERT INTO movies.tb_movie_person (movie_id, person_id, role_id, movie_award_ind) VALUES (11,23, 1, 'N')\")\n",
    "mycursor.execute(\"INSERT INTO movies.tb_movie_person (movie_id, person_id, role_id, movie_award_ind) VALUES (11,24, 1, 'N')\")\n",
    "mycursor.execute(\"INSERT INTO movies.tb_movie_person (movie_id, person_id, role_id, movie_award_ind) VALUES (11,25, 1, 'N')\")\n",
    "mycursor.execute(\"INSERT INTO movies.tb_movie_person (movie_id, person_id, role_id, movie_award_ind) VALUES (11,26, 1, 'N')\")\n",
    "mycursor.execute(\"INSERT INTO movies.tb_movie_person (movie_id, person_id, role_id, movie_award_ind) VALUES (13,28, 1, 'Y')\")\n",
    "mycursor.execute(\"INSERT INTO movies.tb_movie_person (movie_id, person_id, role_id, movie_award_ind) VALUES (13,28, 2, 'N')\")\n",
    "mycursor.execute(\"INSERT INTO movies.tb_movie_person (movie_id, person_id, role_id, movie_award_ind) VALUES (14,29, 1, 'N')\")\n",
    "mycursor.execute(\"INSERT INTO movies.tb_movie_person (movie_id, person_id, role_id, movie_award_ind) VALUES (14,30, 1, 'N')\")"
   ]
  },
  {
   "cell_type": "code",
   "execution_count": 82,
   "metadata": {},
   "outputs": [
    {
     "name": "stdout",
     "output_type": "stream",
     "text": [
      "(1, 1, 2, 'Y', 'OS_SGAD', None, None)\n",
      "(1, 1, 3, 'N', 'OS_SGAD', None, None)\n",
      "(1, 1, 5, 'N', 'OS_SGAD', None, None)\n",
      "(1, 2, 5, 'N', 'OS_SGAD', None, None)\n",
      "(1, 3, 1, 'N', 'OS_SGAD', None, None)\n",
      "(1, 4, 1, 'N', 'OS_SGAD', None, None)\n",
      "(1, 5, 1, 'Y', 'OS_SGAD', None, None)\n",
      "(1, 6, 1, 'N', 'OS_SGAD', None, None)\n",
      "(1, 41, 1, 'N', 'OS_SGAD', None, None)\n",
      "(2, 6, 1, 'N', 'OS_SGAD', None, None)\n",
      "(2, 7, 2, 'Y', 'OS_SGAD', None, None)\n",
      "(2, 8, 3, 'N', 'OS_SGAD', None, None)\n",
      "(3, 6, 1, 'N', 'OS_SGAD', None, None)\n",
      "(3, 7, 1, 'N', 'OS_SGAD', None, None)\n",
      "(3, 7, 4, 'N', 'OS_SGAD', None, None)\n",
      "(3, 9, 2, 'N', 'OS_SGAD', None, None)\n",
      "(3, 10, 5, 'N', 'OS_SGAD', None, None)\n",
      "(4, 9, 2, 'N', 'OS_SGAD', None, None)\n",
      "(4, 9, 3, 'N', 'OS_SGAD', None, None)\n",
      "(4, 11, 1, 'N', 'OS_SGAD', None, None)\n",
      "(4, 12, 1, 'N', 'OS_SGAD', None, None)\n",
      "(5, 9, 2, 'N', 'OS_SGAD', None, None)\n",
      "(6, 9, 2, 'N', 'OS_SGAD', None, None)\n",
      "(7, 13, 1, 'N', 'OS_SGAD', None, None)\n",
      "(7, 13, 2, 'N', 'OS_SGAD', None, None)\n",
      "(7, 13, 3, 'N', 'OS_SGAD', None, None)\n",
      "(7, 14, 2, 'N', 'OS_SGAD', None, None)\n",
      "(7, 15, 2, 'N', 'OS_SGAD', None, None)\n",
      "(8, 16, 2, 'N', 'OS_SGAD', None, None)\n",
      "(8, 17, 1, 'N', 'OS_SGAD', None, None)\n",
      "(8, 18, 1, 'N', 'OS_SGAD', None, None)\n",
      "(8, 19, 1, 'N', 'OS_SGAD', None, None)\n",
      "(8, 20, 1, 'N', 'OS_SGAD', None, None)\n",
      "(9, 16, 2, 'N', 'OS_SGAD', None, None)\n",
      "(9, 17, 1, 'N', 'OS_SGAD', None, None)\n",
      "(9, 18, 1, 'N', 'OS_SGAD', None, None)\n",
      "(9, 19, 1, 'N', 'OS_SGAD', None, None)\n",
      "(9, 20, 1, 'N', 'OS_SGAD', None, None)\n",
      "(10, 16, 2, 'N', 'OS_SGAD', None, None)\n",
      "(11, 21, 2, 'N', 'OS_SGAD', None, None)\n",
      "(11, 21, 4, 'N', 'OS_SGAD', None, None)\n",
      "(11, 22, 1, 'N', 'OS_SGAD', None, None)\n",
      "(11, 23, 1, 'N', 'OS_SGAD', None, None)\n",
      "(11, 24, 1, 'N', 'OS_SGAD', None, None)\n",
      "(11, 25, 1, 'N', 'OS_SGAD', None, None)\n",
      "(11, 26, 1, 'N', 'OS_SGAD', None, None)\n",
      "(13, 28, 1, 'Y', 'OS_SGAD', None, None)\n",
      "(13, 28, 2, 'N', 'OS_SGAD', None, None)\n",
      "(14, 29, 1, 'N', 'OS_SGAD', None, None)\n",
      "(14, 30, 1, 'N', 'OS_SGAD', None, None)\n"
     ]
    }
   ],
   "source": [
    "mycursor.execute(\"SELECT * FROM movies.tb_movie_person\")\n",
    "myresult = mycursor.fetchall()\n",
    "\n",
    "for x in myresult:\n",
    "    print(x)"
   ]
  },
  {
   "cell_type": "code",
   "execution_count": null,
   "metadata": {},
   "outputs": [],
   "source": [
    "mycursor.execute(\"DESCRIBE movies.tb_movie_person\")"
   ]
  },
  {
   "cell_type": "code",
   "execution_count": 90,
   "metadata": {},
   "outputs": [
    {
     "name": "stdout",
     "output_type": "stream",
     "text": [
      "[('movie_id', b'int', 'NO', 'PRI', None, ''), ('person_id', b'int', 'NO', 'PRI', None, ''), ('role_id', b'int', 'NO', 'PRI', None, ''), ('movie_award_ind', b'char(1)', 'NO', '', None, ''), ('created_by_user', b'varchar(10)', 'NO', '', b'OS_SGAD', ''), ('created_date', b'date', 'YES', '', None, ''), ('updated_date', b'date', 'YES', '', None, '')]\n"
     ]
    }
   ],
   "source": [
    "indexList = mycursor.fetchall()\n",
    "\n",
    "print(indexList)"
   ]
  },
  {
   "cell_type": "code",
   "execution_count": 93,
   "metadata": {},
   "outputs": [],
   "source": [
    "mycursor.execute(\"SHOW COLUMNS FROM movies.tb_movie_person\")"
   ]
  },
  {
   "cell_type": "code",
   "execution_count": 94,
   "metadata": {},
   "outputs": [
    {
     "name": "stdout",
     "output_type": "stream",
     "text": [
      "('movie_id', b'int', 'NO', 'PRI', None, '')\n",
      "('person_id', b'int', 'NO', 'PRI', None, '')\n",
      "('role_id', b'int', 'NO', 'PRI', None, '')\n",
      "('movie_award_ind', b'char(1)', 'NO', '', None, '')\n",
      "('created_by_user', b'varchar(10)', 'NO', '', b'OS_SGAD', '')\n",
      "('created_date', b'date', 'YES', '', None, '')\n",
      "('updated_date', b'date', 'YES', '', None, '')\n"
     ]
    }
   ],
   "source": [
    "myresult = mycursor.fetchall()\n",
    "\n",
    "for x in myresult:\n",
    "    print(x)"
   ]
  },
  {
   "cell_type": "code",
   "execution_count": null,
   "metadata": {},
   "outputs": [],
   "source": [
    "# - Exercici 2:\n",
    "\n",
    "Realitza la següent consulta sobre la base de dades acabada de crear: \n",
    "\n",
    "Has d'obtenir el nom, el país i la data de naixement d'aquelles persones per les quals no consti una data de mort i ordenar les dades de la persona més vella a la persona més jove."
   ]
  },
  {
   "cell_type": "code",
   "execution_count": 96,
   "metadata": {},
   "outputs": [],
   "source": [
    "mycursor.execute(\"SELECT person_name, person_country, person_dob FROM movies.tb_person WHERE person_dod IS NULL ORDER BY person_dob\")"
   ]
  },
  {
   "cell_type": "code",
   "execution_count": 97,
   "metadata": {},
   "outputs": [
    {
     "name": "stdout",
     "output_type": "stream",
     "text": [
      "('John Williams', 'United States', datetime.date(1928, 8, 8))\n",
      "('Vera Miles', 'United States', datetime.date(1929, 8, 23))\n",
      "('Sean Connery', 'Scotland', datetime.date(1930, 7, 8))\n",
      "('Robert Duvall', 'United States', datetime.date(1931, 1, 5))\n",
      "('Morgan Freeman', 'United States', datetime.date(1935, 10, 1))\n",
      "('Francis Ford Coppola', 'United States', datetime.date(1939, 4, 7))\n",
      "('Gary Kurtz', 'United States', datetime.date(1940, 7, 27))\n",
      "('Martin Sheen', 'United States', datetime.date(1940, 8, 3))\n",
      "('Harrison Ford', 'United States', datetime.date(1942, 7, 13))\n",
      "('George Lucas', 'United States', datetime.date(1944, 5, 14))\n",
      "('Carmine Coppola', 'United States', datetime.date(1945, 7, 8))\n",
      "('Steven Spielberg', 'United States', datetime.date(1946, 12, 18))\n",
      "('Tim Robbins', 'United States', datetime.date(1949, 6, 7))\n",
      "('Mel Gibson', 'Australia', datetime.date(1950, 8, 9))\n",
      "('Tom Hanks', 'United States', datetime.date(1956, 7, 9))\n",
      "('Emilio Martinez Lazaro', 'Spain', datetime.date(1956, 9, 9))\n",
      "('Karra Elejalde', 'Spain', datetime.date(1960, 3, 6))\n",
      "('Emilio Estevez', 'United States', datetime.date(1962, 5, 12))\n",
      "('Ramón Estevez', 'United States', datetime.date(1963, 8, 7))\n",
      "('Carmen Machi', 'Spain', datetime.date(1964, 8, 9))\n",
      "('Charlie Sheen', 'United States', datetime.date(1965, 9, 3))\n",
      "('Reneé Estevez', 'United States', datetime.date(1967, 4, 2))\n",
      "('Catherine Zeta-Jones', 'Wales', datetime.date(1969, 9, 25))\n",
      "('Robert Alamo', 'Spain', datetime.date(1970, 5, 6))\n",
      "('Daniel Sanchez Arevalo', 'Spain', datetime.date(1970, 6, 8))\n",
      "('Quim Gutierrez', 'Spain', datetime.date(1981, 3, 27))\n",
      "('Veronica Echegui', 'Spain', datetime.date(1983, 3, 14))\n",
      "('Taylor Levi Estevez', 'United States', datetime.date(1984, 6, 22))\n",
      "('Dani Rovira', 'Spain', datetime.date(1984, 7, 1))\n",
      "('Paula Speert Sheen', 'United States', datetime.date(1986, 1, 6))\n",
      "('Paloma Rae Estevez', 'United States', datetime.date(1986, 2, 15))\n",
      "('Clara Lago', 'Spain', datetime.date(1986, 4, 17))\n",
      "('Patrick Criado', 'Spain', datetime.date(1995, 9, 23))\n",
      "('Paula Jones-Sheen', 'United States', datetime.date(2003, 7, 6))\n",
      "('Sam Sheen', 'United States', datetime.date(2004, 3, 9))\n",
      "('Lola Sheen', 'United States', datetime.date(2005, 6, 1))\n",
      "('Bob Sheen', 'United States', datetime.date(2009, 5, 1))\n",
      "('Max Sheen', 'United States', datetime.date(2009, 5, 1))\n"
     ]
    }
   ],
   "source": [
    "myresult = mycursor.fetchall()\n",
    "\n",
    "for x in myresult:\n",
    "    print(x)"
   ]
  },
  {
   "cell_type": "markdown",
   "metadata": {},
   "source": [
    "# - Exercici 3:\n",
    "\n",
    "Realitza la següent consulta sobre la base de dades acabada de crear: \n",
    "\n",
    "Has d'obtenir el nom del gènere i el nombre total de pel·lícules d'aquest gènere i ordenar-ho per ordre descendent de nombre total de pel·lícules.  "
   ]
  },
  {
   "cell_type": "code",
   "execution_count": 102,
   "metadata": {},
   "outputs": [],
   "source": [
    "mycursor.execute(\"SELECT movie_genre_id, COUNT(*) FROM movies.tb_movie GROUP BY movie_genre_id\")"
   ]
  },
  {
   "cell_type": "code",
   "execution_count": 107,
   "metadata": {},
   "outputs": [
    {
     "ename": "ProgrammingError",
     "evalue": "1248 (42000): Every derived table must have its own alias",
     "output_type": "error",
     "traceback": [
      "\u001b[1;31m---------------------------------------------------------------------------\u001b[0m",
      "\u001b[1;31mMySQLInterfaceError\u001b[0m                       Traceback (most recent call last)",
      "\u001b[1;32mC:\\ProgramData\\Anaconda3\\lib\\site-packages\\mysql\\connector\\connection_cext.py\u001b[0m in \u001b[0;36mcmd_query\u001b[1;34m(self, query, raw, buffered, raw_as_string)\u001b[0m\n\u001b[0;32m    537\u001b[0m                                \u001b[0mraw_as_string\u001b[0m\u001b[1;33m=\u001b[0m\u001b[0mraw_as_string\u001b[0m\u001b[1;33m,\u001b[0m\u001b[1;33m\u001b[0m\u001b[1;33m\u001b[0m\u001b[0m\n\u001b[1;32m--> 538\u001b[1;33m                                query_attrs=self._query_attrs)\n\u001b[0m\u001b[0;32m    539\u001b[0m         \u001b[1;32mexcept\u001b[0m \u001b[0mMySQLInterfaceError\u001b[0m \u001b[1;32mas\u001b[0m \u001b[0mexc\u001b[0m\u001b[1;33m:\u001b[0m\u001b[1;33m\u001b[0m\u001b[1;33m\u001b[0m\u001b[0m\n",
      "\u001b[1;31mMySQLInterfaceError\u001b[0m: Every derived table must have its own alias",
      "\nDuring handling of the above exception, another exception occurred:\n",
      "\u001b[1;31mProgrammingError\u001b[0m                          Traceback (most recent call last)",
      "\u001b[1;32m<ipython-input-107-d274814211ab>\u001b[0m in \u001b[0;36m<module>\u001b[1;34m\u001b[0m\n\u001b[1;32m----> 1\u001b[1;33m \u001b[0mmycursor\u001b[0m\u001b[1;33m.\u001b[0m\u001b[0mexecute\u001b[0m\u001b[1;33m(\u001b[0m\u001b[1;34m\"SELECT Cantidad, COUNT(*) FROM (SELECT movie_genre_id, COUNT(*) FROM movies.tb_movie GROUP BY movie_genre_id ) GROUP BY Cantidad\"\u001b[0m\u001b[1;33m)\u001b[0m\u001b[1;33m\u001b[0m\u001b[1;33m\u001b[0m\u001b[0m\n\u001b[0m",
      "\u001b[1;32mC:\\ProgramData\\Anaconda3\\lib\\site-packages\\mysql\\connector\\cursor_cext.py\u001b[0m in \u001b[0;36mexecute\u001b[1;34m(self, operation, params, multi)\u001b[0m\n\u001b[0;32m    269\u001b[0m             result = self._cnx.cmd_query(stmt, raw=self._raw,\n\u001b[0;32m    270\u001b[0m                                          \u001b[0mbuffered\u001b[0m\u001b[1;33m=\u001b[0m\u001b[0mself\u001b[0m\u001b[1;33m.\u001b[0m\u001b[0m_buffered\u001b[0m\u001b[1;33m,\u001b[0m\u001b[1;33m\u001b[0m\u001b[1;33m\u001b[0m\u001b[0m\n\u001b[1;32m--> 271\u001b[1;33m                                          raw_as_string=self._raw_as_string)\n\u001b[0m\u001b[0;32m    272\u001b[0m         \u001b[1;32mexcept\u001b[0m \u001b[0mMySQLInterfaceError\u001b[0m \u001b[1;32mas\u001b[0m \u001b[0mexc\u001b[0m\u001b[1;33m:\u001b[0m\u001b[1;33m\u001b[0m\u001b[1;33m\u001b[0m\u001b[0m\n\u001b[0;32m    273\u001b[0m             raise errors.get_mysql_exception(msg=exc.msg, errno=exc.errno,\n",
      "\u001b[1;32mC:\\ProgramData\\Anaconda3\\lib\\site-packages\\mysql\\connector\\connection_cext.py\u001b[0m in \u001b[0;36mcmd_query\u001b[1;34m(self, query, raw, buffered, raw_as_string)\u001b[0m\n\u001b[0;32m    539\u001b[0m         \u001b[1;32mexcept\u001b[0m \u001b[0mMySQLInterfaceError\u001b[0m \u001b[1;32mas\u001b[0m \u001b[0mexc\u001b[0m\u001b[1;33m:\u001b[0m\u001b[1;33m\u001b[0m\u001b[1;33m\u001b[0m\u001b[0m\n\u001b[0;32m    540\u001b[0m             raise errors.get_mysql_exception(exc.errno, msg=exc.msg,\n\u001b[1;32m--> 541\u001b[1;33m                                              sqlstate=exc.sqlstate)\n\u001b[0m\u001b[0;32m    542\u001b[0m         \u001b[1;32mexcept\u001b[0m \u001b[0mAttributeError\u001b[0m\u001b[1;33m:\u001b[0m\u001b[1;33m\u001b[0m\u001b[1;33m\u001b[0m\u001b[0m\n\u001b[0;32m    543\u001b[0m             \u001b[1;32mif\u001b[0m \u001b[0mself\u001b[0m\u001b[1;33m.\u001b[0m\u001b[0m_unix_socket\u001b[0m\u001b[1;33m:\u001b[0m\u001b[1;33m\u001b[0m\u001b[1;33m\u001b[0m\u001b[0m\n",
      "\u001b[1;31mProgrammingError\u001b[0m: 1248 (42000): Every derived table must have its own alias"
     ]
    }
   ],
   "source": [
    "mycursor.execute(\"SELECT Cantidad, COUNT(*) FROM (SELECT movie_genre_id, COUNT(*) FROM movies.tb_movie GROUP BY movie_genre_id ) GROUP BY Cantidad\")"
   ]
  },
  {
   "cell_type": "code",
   "execution_count": 103,
   "metadata": {},
   "outputs": [
    {
     "name": "stdout",
     "output_type": "stream",
     "text": [
      "(1, 2)\n",
      "(2, 2)\n",
      "(3, 3)\n",
      "(4, 2)\n",
      "(5, 1)\n",
      "(8, 2)\n",
      "(9, 2)\n",
      "(10, 1)\n",
      "(11, 1)\n"
     ]
    }
   ],
   "source": [
    "myresult = mycursor.fetchall()\n",
    "\n",
    "for x in myresult:\n",
    "    print(x)"
   ]
  },
  {
   "cell_type": "code",
   "execution_count": null,
   "metadata": {},
   "outputs": [],
   "source": []
  }
 ],
 "metadata": {
  "kernelspec": {
   "display_name": "Python 3",
   "language": "python",
   "name": "python3"
  },
  "language_info": {
   "codemirror_mode": {
    "name": "ipython",
    "version": 3
   },
   "file_extension": ".py",
   "mimetype": "text/x-python",
   "name": "python",
   "nbconvert_exporter": "python",
   "pygments_lexer": "ipython3",
   "version": "3.7.6"
  }
 },
 "nbformat": 4,
 "nbformat_minor": 4
}
